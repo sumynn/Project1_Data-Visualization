{
 "cells": [
  {
   "cell_type": "markdown",
   "source": [
    "# 지니 음원 차트 크롤링"
   ],
   "metadata": {}
  },
  {
   "cell_type": "markdown",
   "source": [
    "## 월별"
   ],
   "metadata": {}
  },
  {
   "cell_type": "code",
   "execution_count": 187,
   "source": [
    "from selenium import webdriver\r\n",
    "from bs4 import BeautifulSoup\r\n",
    "import time\r\n",
    "\r\n",
    "driver = webdriver.Chrome('./chromedriver_win32/chromedriver.exe')\r\n",
    "\r\n",
    "song_data = []\r\n",
    "\r\n",
    "for month in range(1, 13):\r\n",
    "    rank = 1\r\n",
    "    for page in range(1,3):\r\n",
    "        url = f\"https://www.genie.co.kr/chart/top200?ditc=M&ymd=2020{month:02d}01&hh=15&rtm=N&pg={page}\"\r\n",
    "        driver.get(url)\r\n",
    "        html = driver.page_source\r\n",
    "        soup = BeautifulSoup(html, 'html.parser')\r\n",
    "    \r\n",
    "        songs = soup.select('table > tbody > tr')\r\n",
    "        i = 0\r\n",
    "        for song in songs:\r\n",
    "            title = song.select('a.title')[0].text.strip()\r\n",
    "            singer = song.select('a.artist')[0].text\r\n",
    "\r\n",
    "            select = driver.find_elements_by_css_selector('a.btn-info')[i].click()\r\n",
    "            #time.sleep(1)\r\n",
    "\r\n",
    "            genre = driver.find_elements_by_css_selector('span.value')[2].text\r\n",
    "            #time.sleep(1)\r\n",
    "            driver.back()\r\n",
    "\r\n",
    "            i += 1\r\n",
    "\r\n",
    "            song_data.append(['2020', month, rank, title, singer, genre])\r\n",
    "            rank += 1"
   ],
   "outputs": [],
   "metadata": {}
  },
  {
   "cell_type": "code",
   "execution_count": 188,
   "source": [
    "# 데이터 프레임으로 만든 후 엑셀파일로 저장\r\n",
    "import pandas as pd\r\n",
    "\r\n",
    "columns = ['년도', '월', '순위', '타이틀', '가수', '장르']\r\n",
    "pd_data = pd.DataFrame(song_data, columns = columns)\r\n",
    "\r\n",
    "pd_data.to_excel('./data/2020_month.xlsx', index=False)"
   ],
   "outputs": [],
   "metadata": {}
  },
  {
   "cell_type": "markdown",
   "source": [
    "## 연도별"
   ],
   "metadata": {}
  },
  {
   "cell_type": "code",
   "execution_count": 91,
   "source": [
    "from selenium import webdriver\r\n",
    "from bs4 import BeautifulSoup\r\n",
    "import time\r\n",
    "\r\n",
    "driver = webdriver.Chrome('./chromedriver_win32/chromedriver.exe')\r\n",
    "\r\n",
    "song_data = []\r\n",
    "\r\n",
    "rank = 1\r\n",
    "for page in range(1,3):\r\n",
    "    url = f\"https://www.genie.co.kr/chart/musicHistory?year=2020&category=0&pg={page}\"\r\n",
    "    driver.get(url)\r\n",
    "    html = driver.page_source\r\n",
    "    soup = BeautifulSoup(html, 'html.parser')\r\n",
    "    \r\n",
    "    songs = soup.select('table > tbody > tr')\r\n",
    "\r\n",
    "    i = 0\r\n",
    "    for song in songs:\r\n",
    "        title = song.select('a.title')[0].text.split('\\n')[-1].strip()\r\n",
    "        singer = song.select('a.artist')[0].text\r\n",
    "\r\n",
    "        select = driver.find_elements_by_css_selector('a.btn-info')[i].click()\r\n",
    "        #time.sleep(1)\r\n",
    "\r\n",
    "        genre = driver.find_elements_by_css_selector('span.value')[2].text\r\n",
    "        #time.sleep(1)\r\n",
    "        driver.back()\r\n",
    "\r\n",
    "        i += 1\r\n",
    "\r\n",
    "        song_data.append(['2020', rank, title, singer, genre])\r\n",
    "        rank += 1"
   ],
   "outputs": [],
   "metadata": {}
  },
  {
   "cell_type": "code",
   "execution_count": 93,
   "source": [
    "# 데이터 프레임으로 만든 후 엑셀파일로 저장\r\n",
    "import pandas as pd\r\n",
    "\r\n",
    "columns = ['년도', '순위', '타이틀', '가수', '장르']\r\n",
    "pd_data = pd.DataFrame(song_data, columns = columns)\r\n",
    "\r\n",
    "pd_data.to_excel('./data/2020_year.xlsx', index=False)"
   ],
   "outputs": [],
   "metadata": {}
  },
  {
   "cell_type": "markdown",
   "source": [
    "# 멜론 음원 차트 크롤링"
   ],
   "metadata": {}
  },
  {
   "cell_type": "markdown",
   "source": [
    "## 연도별"
   ],
   "metadata": {}
  },
  {
   "cell_type": "code",
   "execution_count": 407,
   "source": [
    "from selenium import webdriver\r\n",
    "from bs4 import BeautifulSoup\r\n",
    "import re\r\n",
    "\r\n",
    "# 웹 드라이버 실행\r\n",
    "driver1 = webdriver.Chrome('./chromedriver_win32/chromedriver.exe')\r\n",
    "driver2 = webdriver.Chrome('./chromedriver_win32/chromedriver.exe')\r\n",
    "\r\n",
    "url = \"https://www.melon.com/chart/index.htm\"\r\n",
    "driver1.get(url)\r\n",
    "\r\n",
    "song_data = []\r\n",
    "year = 2020\r\n",
    "\r\n",
    "# 차트 파인더 조건 선택\r\n",
    "driver1.find_elements_by_css_selector('#gnb_menu > ul:nth-child(1) > li.nth1.on > div > div > button > span')[0].click()  # 차트 파인더 페이지로 이동\r\n",
    "time.sleep(1)\r\n",
    "driver1.find_elements_by_css_selector('#d_chart_search > div > h4.tab03 > a')[0].click()  # 차트 선택\r\n",
    "time.sleep(1)\r\n",
    "for i in range(1,3):\r\n",
    "    driver1.find_elements_by_css_selector(f'#d_chart_search > div > div > div.box_chic.nth1.view > div.list_value > ul > li:nth-child({i})')[0].click()  # 연대 선택\r\n",
    "    time.sleep(1)\r\n",
    "    for j in range(1,4):\r\n",
    "        try:\r\n",
    "            driver1.find_elements_by_css_selector(f'#d_chart_search > div > div > div.box_chic.nth2.view > div.list_value > ul > li:nth-child({j})')[0].click()  # 연도 선택\r\n",
    "            time.sleep(1)\r\n",
    "        except IndexError :\r\n",
    "            continue\r\n",
    "        driver1.find_elements_by_css_selector('#d_chart_search > div > div > div.box_chic.last.view > div.list_value > ul > li:nth-child(1)')[0].click()  # 장르/스타일 선택\r\n",
    "        time.sleep(1)\r\n",
    "        driver1.find_elements_by_css_selector('#d_srch_form > div.wrap_btn_serch > button > span > span')[0].click()  # 검색 버튼 클릭\r\n",
    "        time.sleep(1)\r\n",
    "\r\n",
    "        html = driver1.page_source\r\n",
    "        soup = BeautifulSoup(html, 'html.parser')\r\n",
    "        songs = soup.select('table > tbody > tr')\r\n",
    "        rank = 1\r\n",
    "\r\n",
    "        for song in songs:\r\n",
    "            title = song.select('div.rank01 > span > strong > a')[0].text\r\n",
    "            singer = song.select('div.rank02 > a')[0].text\r\n",
    "\r\n",
    "            href = song.select('a.btn_icon_detail')[0].get('href')  # 곡 정보 버튼에서 href 속성값 가져오기\r\n",
    "            songId = re.findall(\"\\d+\", href)[0]  # songId 추출\r\n",
    "\r\n",
    "            url = f'https://www.melon.com/song/detail.htm?songId={songId}'  # 곡 정보 페이지 이동\r\n",
    "            driver2.get(url)\r\n",
    "\r\n",
    "            genre = driver2.find_elements_by_css_selector('div.meta > dl > dd:nth-child(6)')[0].text\r\n",
    "\r\n",
    "            song_data.append([year, rank, title, singer, genre])\r\n",
    "            rank += 1\r\n",
    "        year -= 1"
   ],
   "outputs": [],
   "metadata": {}
  },
  {
   "cell_type": "code",
   "execution_count": 408,
   "source": [
    "# 데이터 프레임으로 만든 후 엑셀파일로 저장\r\n",
    "import pandas as pd\r\n",
    "\r\n",
    "columns = ['년도', '순위', '타이틀', '가수', '장르']\r\n",
    "pd_data = pd.DataFrame(song_data, columns = columns)\r\n",
    "\r\n",
    "pd_data.to_excel('./data/melon_year.xlsx', index=False)"
   ],
   "outputs": [],
   "metadata": {}
  }
 ],
 "metadata": {
  "orig_nbformat": 4,
  "language_info": {
   "name": "python",
   "version": "3.8.8",
   "mimetype": "text/x-python",
   "codemirror_mode": {
    "name": "ipython",
    "version": 3
   },
   "pygments_lexer": "ipython3",
   "nbconvert_exporter": "python",
   "file_extension": ".py"
  },
  "kernelspec": {
   "name": "python3",
   "display_name": "Python 3.8.8 64-bit ('base': conda)"
  },
  "interpreter": {
   "hash": "b3ba2566441a7c06988d0923437866b63cedc61552a5af99d1f4fb67d367b25f"
  }
 },
 "nbformat": 4,
 "nbformat_minor": 2
}