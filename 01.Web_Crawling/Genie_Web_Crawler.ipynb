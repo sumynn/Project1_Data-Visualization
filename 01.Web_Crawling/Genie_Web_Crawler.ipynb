{
 "cells": [
  {
   "cell_type": "markdown",
   "metadata": {},
   "source": [
    "# 지니 음원 차트 크롤링"
   ]
  },
  {
   "cell_type": "markdown",
   "metadata": {},
   "source": [
    "## 월별"
   ]
  },
  {
   "cell_type": "code",
   "execution_count": null,
   "metadata": {},
   "outputs": [],
   "source": [
    "# 2017~2020년\n",
    "from bs4 import BeautifulSoup\n",
    "import pandas as pd\n",
    "import requests\n",
    "\n",
    "for year in range(2017,2021):\n",
    "    song_data = []\n",
    "    for month in range(1,13):\n",
    "        rank = 1\n",
    "        for page in range(1,3):\n",
    "            url = f\"https://www.genie.co.kr/chart/top200?ditc=M&ymd={year}{month:02d}01&hh=15&rtm=N&pg={page}\"\n",
    "            headers = {'User-Agent':'Mozilla/5.0 (Windows NT 10.0; Win64; x64) AppleWebKit/537.36 (KHTML, like Gecko) Chrome/96.0.4664.45 Safari/537.36'}\n",
    "            html = requests.get(url, headers = headers).text\n",
    "            soup = BeautifulSoup(html, 'html.parser')\n",
    "\n",
    "            songs = soup.select('table > tbody > tr')\n",
    "\n",
    "            for song in songs:\n",
    "                title = song.select('a.title')[0].text.split('\\n')[-1].strip()  # 제목 추출\n",
    "                singer = song.select('a.artist')[0].text  # 가수 추출\n",
    "                songid = song['songid']\n",
    "\n",
    "                song_url = f'https://www.genie.co.kr/detail/songInfo?xgnm={songid}'\n",
    "                song_html = requests.get(song_url, headers=headers).text\n",
    "                song_soup = BeautifulSoup(song_html, 'html.parser')\n",
    "\n",
    "                genre = song_soup.select('span.value')[2].text  # 장르 추출\n",
    "\n",
    "                song_data.append([year, month, rank, title, singer, genre])  # 추출한 데이터 리스트로 저장\n",
    "                rank += 1\n",
    "\n",
    "    # # 데이터 프레임으로 만든 후 엑셀파일로 저장\n",
    "    columns = ['년도', '월', '순위', '타이틀', '가수', '장르']\n",
    "    pd_data = pd.DataFrame(song_data, columns = columns)\n",
    "    pd_data.to_excel(f'./data/{year}_month.xlsx', index=False)"
   ]
  },
  {
   "cell_type": "code",
   "execution_count": null,
   "metadata": {},
   "outputs": [],
   "source": [
    "# 2021년 8월까지\n",
    "from bs4 import BeautifulSoup\n",
    "import pandas as pd\n",
    "import requests\n",
    "\n",
    "song_data = []\n",
    "for month in range(1,13):\n",
    "    rank = 1\n",
    "    for page in range(1,3):\n",
    "        url = f\"https://www.genie.co.kr/chart/top200?ditc=M&ymd=2021{month:02d}01&hh=15&rtm=N&pg={page}\"\n",
    "        headers = {'User-Agent':'Mozilla/5.0 (Windows NT 10.0; Win64; x64) AppleWebKit/537.36 (KHTML, like Gecko) Chrome/96.0.4664.45 Safari/537.36'}\n",
    "        html = requests.get(url, headers = headers).text\n",
    "        soup = BeautifulSoup(html, 'html.parser')\n",
    "\n",
    "        songs = soup.select('table > tbody > tr')\n",
    "        for song in songs:\n",
    "            title = song.select('a.title')[0].text.split('\\n')[-1].strip()  # 제목 추출\n",
    "            singer = song.select('a.artist')[0].text  # 가수 추출\n",
    "            songid = song['songid']\n",
    "\n",
    "            song_url = f'https://www.genie.co.kr/detail/songInfo?xgnm={songid}'\n",
    "            song_html = requests.get(song_url, headers=headers).text\n",
    "            song_soup = BeautifulSoup(song_html, 'html.parser')\n",
    "\n",
    "            genre = song_soup.select('span.value')[2].text  # 장르 추출\n",
    "            song_data.append(['2021', month, rank, title, singer, genre])  # 추출한 데이터 리스트로 저장\n",
    "            rank += 1\n",
    "\n",
    "    # # 데이터 프레임으로 만든 후 엑셀파일로 저장\n",
    "    columns = ['년도', '월', '순위', '타이틀', '가수', '장르']\n",
    "    pd_data = pd.DataFrame(song_data, columns = columns)\n",
    "    pd_data.to_excel(f'./data/2021_month.xlsx', index=False)"
   ]
  },
  {
   "cell_type": "markdown",
   "metadata": {},
   "source": [
    "## 연도별"
   ]
  },
  {
   "cell_type": "code",
   "execution_count": 2,
   "metadata": {},
   "outputs": [],
   "source": [
    "# 2017~2020년\n",
    "from bs4 import BeautifulSoup\n",
    "import pandas as pd\n",
    "import requests\n",
    "\n",
    "for year in range(2017,2021):\n",
    "    song_data = []\n",
    "    rank = 1\n",
    "    for page in range(1,3):\n",
    "        url = f\"https://www.genie.co.kr/chart/musicHistory?year={year}&category=0&pg={page}\"\n",
    "        headers = {'User-Agent':'Mozilla/5.0 (Windows NT 10.0; Win64; x64) AppleWebKit/537.36 (KHTML, like Gecko) Chrome/96.0.4664.45 Safari/537.36'}\n",
    "        html = requests.get(url, headers = headers).text\n",
    "        soup = BeautifulSoup(html, 'html.parser')\n",
    "\n",
    "        songs = soup.select('table > tbody > tr')\n",
    "\n",
    "        for song in songs:\n",
    "            title = song.select('a.title')[0].text.split('\\n')[-1].strip()  # 제목 추출\n",
    "            singer = song.select('a.artist')[0].text  # 가수 추출\n",
    "            songid = song['songid']\n",
    "\n",
    "            song_url = f'https://www.genie.co.kr/detail/songInfo?xgnm={songid}'\n",
    "            song_html = requests.get(song_url, headers=headers).text\n",
    "            song_soup = BeautifulSoup(song_html, 'html.parser')\n",
    "\n",
    "            genre = song_soup.select('span.value')[2].text  # 장르 추출\n",
    "\n",
    "            song_data.append([year, rank, title, singer, genre])  # 추출한 데이터 리스트로 저장\n",
    "            rank += 1\n",
    "\n",
    "    # # 데이터 프레임으로 만든 후 엑셀파일로 저장\n",
    "    columns = ['년도', '순위', '타이틀', '가수', '장르']\n",
    "    pd_data = pd.DataFrame(song_data, columns = columns)\n",
    "    pd_data.to_excel(f'./data/{year}_year.xlsx', index=False)"
   ]
  }
 ],
 "metadata": {
  "interpreter": {
   "hash": "b3ba2566441a7c06988d0923437866b63cedc61552a5af99d1f4fb67d367b25f"
  },
  "kernelspec": {
   "display_name": "Python 3.8.8 64-bit ('base': conda)",
   "name": "python3"
  },
  "language_info": {
   "codemirror_mode": {
    "name": "ipython",
    "version": 3
   },
   "file_extension": ".py",
   "mimetype": "text/x-python",
   "name": "python",
   "nbconvert_exporter": "python",
   "pygments_lexer": "ipython3",
   "version": "3.8.8"
  },
  "orig_nbformat": 4
 },
 "nbformat": 4,
 "nbformat_minor": 2
}
