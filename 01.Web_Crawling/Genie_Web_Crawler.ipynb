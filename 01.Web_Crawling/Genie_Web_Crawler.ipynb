{
 "cells": [
  {
   "cell_type": "markdown",
   "source": [
    "# 지니 음원 차트 크롤링"
   ],
   "metadata": {}
  },
  {
   "cell_type": "markdown",
   "source": [
    "## 월별"
   ],
   "metadata": {}
  },
  {
   "cell_type": "code",
   "execution_count": 36,
   "source": [
    "# 2017~2020년\r\n",
    "from selenium import webdriver\r\n",
    "from bs4 import BeautifulSoup\r\n",
    "import time\r\n",
    "import pandas as pd\r\n",
    "\r\n",
    "driver = webdriver.Chrome('./chromedriver_win32/chromedriver.exe')\r\n",
    "\r\n",
    "for year in range(2017, 2021):\r\n",
    "    song_data = []\r\n",
    "    for month in range(1, 13):\r\n",
    "        rank = 1\r\n",
    "        for page in range(1,3):\r\n",
    "            url = f\"https://www.genie.co.kr/chart/top200?ditc=M&ymd={year}{month:02d}01&hh=15&rtm=N&pg={page}\"\r\n",
    "            driver.get(url)\r\n",
    "            html = driver.page_source\r\n",
    "            soup = BeautifulSoup(html, 'html.parser')\r\n",
    "            \r\n",
    "            songs = soup.select('table > tbody > tr')\r\n",
    "            i = 0\r\n",
    "            for song in songs:\r\n",
    "                title = song.select('a.title')[0].text.split('\\n')[-1].strip()  # 제목 추출\r\n",
    "                singer = song.select('a.artist')[0].text  # 가수 추출\r\n",
    "\r\n",
    "                select = driver.find_elements_by_css_selector('a.btn-info')[i].click()  # 곡 세부 정보 버튼 클릭\r\n",
    "                time.sleep(0.5)\r\n",
    "\r\n",
    "                genre = driver.find_elements_by_css_selector('span.value')[2].text  # 장르 추출\r\n",
    "                time.sleep(0.5)\r\n",
    "                driver.back()\r\n",
    "\r\n",
    "                i += 1\r\n",
    "\r\n",
    "                song_data.append([year, month, rank, title, singer, genre])  # 추출한 데이터 리스트로 저장\r\n",
    "                rank += 1\r\n",
    "\r\n",
    "    # 데이터 프레임으로 만든 후 엑셀파일로 저장\r\n",
    "    columns = ['년도', '월', '순위', '타이틀', '가수', '장르']\r\n",
    "    pd_data = pd.DataFrame(song_data, columns = columns)\r\n",
    "    pd_data.to_excel(f'./data/{year}_month.xlsx', index=False)"
   ],
   "outputs": [],
   "metadata": {}
  },
  {
   "cell_type": "code",
   "execution_count": null,
   "source": [
    "# 2021년 8월까지\r\n",
    "from selenium import webdriver\r\n",
    "from bs4 import BeautifulSoup\r\n",
    "import time\r\n",
    "import pandas as pd\r\n",
    "\r\n",
    "driver = webdriver.Chrome('./chromedriver_win32/chromedriver.exe')\r\n",
    "\r\n",
    "song_data = []\r\n",
    "\r\n",
    "for month in range(1, 9):\r\n",
    "    rank = 1\r\n",
    "    for page in range(1,3):\r\n",
    "        url = f\"https://www.genie.co.kr/chart/top200?ditc=M&ymd=2021{month:02d}01&hh=15&rtm=N&pg={page}\"\r\n",
    "        driver.get(url)\r\n",
    "        html = driver.page_source\r\n",
    "        soup = BeautifulSoup(html, 'html.parser')\r\n",
    "    \r\n",
    "        songs = soup.select('table > tbody > tr')\r\n",
    "        i = 0\r\n",
    "        for song in songs:\r\n",
    "            title = song.select('a.title')[0].text.split('\\n')[-1].strip()  # 제목 추출\r\n",
    "            singer = song.select('a.artist')[0].text  # 가수 추출\r\n",
    "\r\n",
    "            select = driver.find_elements_by_css_selector('a.btn-info')[i].click()  # 곡 세부 정보 버튼 클릭\r\n",
    "            #time.sleep(1)\r\n",
    "\r\n",
    "            genre = driver.find_elements_by_css_selector('span.value')[2].text  # 장르 추출\r\n",
    "            #time.sleep(1)\r\n",
    "            driver.back()\r\n",
    "\r\n",
    "            i += 1\r\n",
    "\r\n",
    "            song_data.append(['2020', month, rank, title, singer, genre])  # 추출한 데이터 리스트로 저장\r\n",
    "            rank += 1\r\n",
    "\r\n",
    "\r\n",
    "# 데이터 프레임으로 만든 후 엑셀파일로 저장\r\n",
    "columns = ['년도', '월', '순위', '타이틀', '가수', '장르']\r\n",
    "pd_data = pd.DataFrame(song_data, columns = columns)\r\n",
    "pd_data.to_excel('./data/2021_month.xlsx', index=False)"
   ],
   "outputs": [],
   "metadata": {}
  },
  {
   "cell_type": "markdown",
   "source": [
    "## 연도별"
   ],
   "metadata": {}
  },
  {
   "cell_type": "code",
   "execution_count": 5,
   "source": [
    "# 2017~2020년\r\n",
    "from selenium import webdriver\r\n",
    "from bs4 import BeautifulSoup\r\n",
    "import time\r\n",
    "import pandas as pd\r\n",
    "\r\n",
    "driver = webdriver.Chrome('./chromedriver_win32/chromedriver.exe')\r\n",
    "\r\n",
    "for year in range(2017,2021):\r\n",
    "    song_data = []\r\n",
    "    rank = 1\r\n",
    "    for page in range(1,3):\r\n",
    "        url = f\"https://www.genie.co.kr/chart/musicHistory?year={year}&category=0&pg={page}\"\r\n",
    "        driver.get(url)\r\n",
    "        html = driver.page_source\r\n",
    "        soup = BeautifulSoup(html, 'html.parser')\r\n",
    "        \r\n",
    "        songs = soup.select('table > tbody > tr')\r\n",
    "\r\n",
    "        i = 0\r\n",
    "        for song in songs:\r\n",
    "            title = song.select('a.title')[0].text.split('\\n')[-1].strip()  # 제목 추출\r\n",
    "            singer = song.select('a.artist')[0].text  # 가수 추출\r\n",
    "\r\n",
    "            select = driver.find_elements_by_css_selector('a.btn-info')[i].click()  # 곡 세부 정보 버튼 클릭\r\n",
    "            #time.sleep(1)\r\n",
    "\r\n",
    "            genre = driver.find_elements_by_css_selector('span.value')[2].text  # 장르 추출\r\n",
    "            #time.sleep(1)\r\n",
    "            driver.back()\r\n",
    "\r\n",
    "            i += 1\r\n",
    "\r\n",
    "            song_data.append([year, rank, title, singer, genre])  # 추출한 데이터 리스트로 저장\r\n",
    "            rank += 1\r\n",
    "\r\n",
    "    # 데이터 프레임으로 만든 후 엑셀파일로 저장\r\n",
    "    columns = ['년도', '순위', '타이틀', '가수', '장르']\r\n",
    "    pd_data = pd.DataFrame(song_data, columns = columns)\r\n",
    "    pd_data.to_excel(f'./data/{year}_year.xlsx', index=False)"
   ],
   "outputs": [],
   "metadata": {}
  }
 ],
 "metadata": {
  "orig_nbformat": 4,
  "language_info": {
   "name": "python",
   "version": "3.8.8",
   "mimetype": "text/x-python",
   "codemirror_mode": {
    "name": "ipython",
    "version": 3
   },
   "pygments_lexer": "ipython3",
   "nbconvert_exporter": "python",
   "file_extension": ".py"
  },
  "kernelspec": {
   "name": "python3",
   "display_name": "Python 3.8.8 64-bit ('base': conda)"
  },
  "interpreter": {
   "hash": "b3ba2566441a7c06988d0923437866b63cedc61552a5af99d1f4fb67d367b25f"
  }
 },
 "nbformat": 4,
 "nbformat_minor": 2
}