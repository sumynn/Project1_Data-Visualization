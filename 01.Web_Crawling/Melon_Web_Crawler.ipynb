{
 "cells": [
  {
   "cell_type": "markdown",
   "metadata": {},
   "source": [
    "# 멜론 음원 차트 크롤링"
   ]
  },
  {
   "cell_type": "markdown",
   "metadata": {},
   "source": [
    "## 연도별"
   ]
  },
  {
   "cell_type": "code",
   "execution_count": null,
   "metadata": {},
   "outputs": [],
   "source": [
    "from selenium import webdriver\n",
    "from bs4 import BeautifulSoup\n",
    "import time\n",
    "import re\n",
    "import pandas as pd\n",
    "\n",
    "# 웹 드라이버 실행\n",
    "driver = webdriver.Chrome('chromedriver.exe', options=options)\n",
    "url = \"https://www.melon.com/chart/index.htm\"\n",
    "\n",
    "headers = {'User-Agent':'Mozilla/5.0 (Windows NT 10.0; Win64; x64) AppleWebKit/537.36 (KHTML, like Gecko) Chrome/96.0.4664.45 Safari/537.36'}\n",
    "\n",
    "song_data = []\n",
    "year = 2020\n",
    "\n",
    "# 차트 파인더 조건 선택\n",
    "for i in range(1,3):  # 연대 2020년대, 2019년대\n",
    "    for j in range(1,4):  # 연도 2017년까지\n",
    "        driver.get(url)\n",
    "        time.sleep(2)\n",
    "        driver.find_elements_by_css_selector('li.nth1.on > div > div > button')[0].click()  # 차트 파인더 페이지로 이동\n",
    "        time.sleep(2)\n",
    "        driver.find_elements_by_css_selector('h4.tab03 > a')[0].click()  # 차트 선택\n",
    "        time.sleep(2)\n",
    "        driver.find_elements_by_css_selector(f'div.box_chic.nth1.view > div.list_value > ul > li:nth-child({i})')[0].click()  # 연대 선택\n",
    "        time.sleep(2)\n",
    "        try:\n",
    "            driver.find_elements_by_css_selector(f'div.box_chic.nth2.view > div.list_value > ul > li:nth-child({j})')[0].click()  # 연도 선택\n",
    "            time.sleep(2)\n",
    "        except IndexError :\n",
    "            continue\n",
    "        driver.find_elements_by_css_selector('div.box_chic.last.view > div.list_value > ul > li:nth-child(2)')[0].click()  # 장르/스타일 선택\n",
    "        time.sleep(2)\n",
    "        driver.find_elements_by_css_selector('div.wrap_btn_serch > button')[0].click()  # 검색 버튼 클릭\n",
    "        time.sleep(2)\n",
    "\n",
    "        html = driver.page_source\n",
    "        soup = BeautifulSoup(html, 'html.parser')\n",
    "        songs = soup.select('table > tbody > tr')\n",
    "        rank = 1\n",
    "\n",
    "        for song in songs:\n",
    "            title = song.select_one('div.rank01 > span > strong > a').text  # 제목 추출\n",
    "            singer = song.select_one('div.rank02 > a').text  # 가수 추출\n",
    "            songid = song.select_one('td:nth-of-type(1) > div > input')['value']  # 곡 고유번호\n",
    "\n",
    "            song_url = f'https://www.melon.com/song/detail.htm?songId={songid}'  # 곡 정보 페이지 url\n",
    "            song_html = requests.get(song_url, headers=headers).text\n",
    "            song_soup = BeautifulSoup(song_html, 'html.parser')\n",
    "\n",
    "            genre = song_soup.select_one('div.meta > dl > dd:nth-of-type(6)')  # 장르 추출\n",
    "\n",
    "            song_data.append([year, rank, title, singer, genre])  # 추출한 데이터 리스트로 저장\n",
    "            rank += 1\n",
    "        year -= 1\n",
    "\n",
    "\n",
    "# # 데이터 프레임으로 만든 후 엑셀파일로 저장\n",
    "columns = ['년도', '순위', '타이틀', '가수', '장르']\n",
    "pd_data = pd.DataFrame(song_data, columns = columns)\n",
    "pd_data.to_excel('./data/melon_year.xlsx', index=False)"
   ]
  }
 ],
 "metadata": {
  "interpreter": {
   "hash": "b3ba2566441a7c06988d0923437866b63cedc61552a5af99d1f4fb67d367b25f"
  },
  "kernelspec": {
   "display_name": "Python 3.8.8 64-bit ('base': conda)",
   "name": "python3"
  },
  "language_info": {
   "codemirror_mode": {
    "name": "ipython",
    "version": 3
   },
   "file_extension": ".py",
   "mimetype": "text/x-python",
   "name": "python",
   "nbconvert_exporter": "python",
   "pygments_lexer": "ipython3",
   "version": "3.8.8"
  },
  "orig_nbformat": 4
 },
 "nbformat": 4,
 "nbformat_minor": 2
}
